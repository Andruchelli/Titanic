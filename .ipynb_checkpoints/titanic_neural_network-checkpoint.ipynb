{
 "cells": [
  {
   "cell_type": "markdown",
   "id": "cf81d2f1",
   "metadata": {},
   "source": [
    "# Постановка задачи\n",
    "\n",
    "1. Определить выживаемость пассажиров \"Титаника\" с помощью нейронной сети (https://www.kaggle.com/c/titanic/data).\n",
    "2. Сравнить результат с полученным в предыдущем решении этой задачи (titanic.ipynb)."
   ]
  },
  {
   "cell_type": "code",
   "execution_count": 2,
   "id": "aa53ab4f",
   "metadata": {},
   "outputs": [
    {
     "name": "stderr",
     "output_type": "stream",
     "text": [
      "2022-12-06 18:33:47.022098: I tensorflow/core/platform/cpu_feature_guard.cc:193] This TensorFlow binary is optimized with oneAPI Deep Neural Network Library (oneDNN) to use the following CPU instructions in performance-critical operations:  AVX2 FMA\n",
      "To enable them in other operations, rebuild TensorFlow with the appropriate compiler flags.\n"
     ]
    }
   ],
   "source": [
    "import numpy as np # импортируем библиотеку Numpy\n",
    "import pandas as pd # импортируем библиотеку Pandas\n",
    "import matplotlib.pyplot as plt # импортируем библиотеку Matplotlib\n",
    "\n",
    "from keras.models import Sequential\n",
    "from keras.layers import Dense, Dropout\n",
    "from keras.utils import np_utils, plot_model"
   ]
  },
  {
   "cell_type": "code",
   "execution_count": 4,
   "id": "021c97a6",
   "metadata": {},
   "outputs": [],
   "source": [
    "titanic_train_data = pd.read_csv('https://raw.githubusercontent.com/Andruchelli/Titanic/main/train.csv') # прочитаем файл с тренировочными данными\n",
    "titanic_test_data = pd.read_csv('https://raw.githubusercontent.com/Andruchelli/Titanic/main/test.csv') # прочитаем файл с тестовыми данными, который будет использоваться для решения задачи по определению выживаемости пассажиров"
   ]
  },
  {
   "cell_type": "code",
   "execution_count": 5,
   "id": "3a2e8538",
   "metadata": {},
   "outputs": [
    {
     "data": {
      "text/html": [
       "<div>\n",
       "<style scoped>\n",
       "    .dataframe tbody tr th:only-of-type {\n",
       "        vertical-align: middle;\n",
       "    }\n",
       "\n",
       "    .dataframe tbody tr th {\n",
       "        vertical-align: top;\n",
       "    }\n",
       "\n",
       "    .dataframe thead th {\n",
       "        text-align: right;\n",
       "    }\n",
       "</style>\n",
       "<table border=\"1\" class=\"dataframe\">\n",
       "  <thead>\n",
       "    <tr style=\"text-align: right;\">\n",
       "      <th></th>\n",
       "      <th>PassengerId</th>\n",
       "      <th>Survived</th>\n",
       "      <th>Pclass</th>\n",
       "      <th>Name</th>\n",
       "      <th>Sex</th>\n",
       "      <th>Age</th>\n",
       "      <th>SibSp</th>\n",
       "      <th>Parch</th>\n",
       "      <th>Ticket</th>\n",
       "      <th>Fare</th>\n",
       "      <th>Cabin</th>\n",
       "      <th>Embarked</th>\n",
       "    </tr>\n",
       "  </thead>\n",
       "  <tbody>\n",
       "    <tr>\n",
       "      <th>0</th>\n",
       "      <td>1</td>\n",
       "      <td>0</td>\n",
       "      <td>3</td>\n",
       "      <td>Braund, Mr. Owen Harris</td>\n",
       "      <td>male</td>\n",
       "      <td>22.0</td>\n",
       "      <td>1</td>\n",
       "      <td>0</td>\n",
       "      <td>A/5 21171</td>\n",
       "      <td>7.2500</td>\n",
       "      <td>NaN</td>\n",
       "      <td>S</td>\n",
       "    </tr>\n",
       "    <tr>\n",
       "      <th>1</th>\n",
       "      <td>2</td>\n",
       "      <td>1</td>\n",
       "      <td>1</td>\n",
       "      <td>Cumings, Mrs. John Bradley (Florence Briggs Th...</td>\n",
       "      <td>female</td>\n",
       "      <td>38.0</td>\n",
       "      <td>1</td>\n",
       "      <td>0</td>\n",
       "      <td>PC 17599</td>\n",
       "      <td>71.2833</td>\n",
       "      <td>C85</td>\n",
       "      <td>C</td>\n",
       "    </tr>\n",
       "    <tr>\n",
       "      <th>2</th>\n",
       "      <td>3</td>\n",
       "      <td>1</td>\n",
       "      <td>3</td>\n",
       "      <td>Heikkinen, Miss. Laina</td>\n",
       "      <td>female</td>\n",
       "      <td>26.0</td>\n",
       "      <td>0</td>\n",
       "      <td>0</td>\n",
       "      <td>STON/O2. 3101282</td>\n",
       "      <td>7.9250</td>\n",
       "      <td>NaN</td>\n",
       "      <td>S</td>\n",
       "    </tr>\n",
       "    <tr>\n",
       "      <th>3</th>\n",
       "      <td>4</td>\n",
       "      <td>1</td>\n",
       "      <td>1</td>\n",
       "      <td>Futrelle, Mrs. Jacques Heath (Lily May Peel)</td>\n",
       "      <td>female</td>\n",
       "      <td>35.0</td>\n",
       "      <td>1</td>\n",
       "      <td>0</td>\n",
       "      <td>113803</td>\n",
       "      <td>53.1000</td>\n",
       "      <td>C123</td>\n",
       "      <td>S</td>\n",
       "    </tr>\n",
       "    <tr>\n",
       "      <th>4</th>\n",
       "      <td>5</td>\n",
       "      <td>0</td>\n",
       "      <td>3</td>\n",
       "      <td>Allen, Mr. William Henry</td>\n",
       "      <td>male</td>\n",
       "      <td>35.0</td>\n",
       "      <td>0</td>\n",
       "      <td>0</td>\n",
       "      <td>373450</td>\n",
       "      <td>8.0500</td>\n",
       "      <td>NaN</td>\n",
       "      <td>S</td>\n",
       "    </tr>\n",
       "  </tbody>\n",
       "</table>\n",
       "</div>"
      ],
      "text/plain": [
       "   PassengerId  Survived  Pclass  \\\n",
       "0            1         0       3   \n",
       "1            2         1       1   \n",
       "2            3         1       3   \n",
       "3            4         1       1   \n",
       "4            5         0       3   \n",
       "\n",
       "                                                Name     Sex   Age  SibSp  \\\n",
       "0                            Braund, Mr. Owen Harris    male  22.0      1   \n",
       "1  Cumings, Mrs. John Bradley (Florence Briggs Th...  female  38.0      1   \n",
       "2                             Heikkinen, Miss. Laina  female  26.0      0   \n",
       "3       Futrelle, Mrs. Jacques Heath (Lily May Peel)  female  35.0      1   \n",
       "4                           Allen, Mr. William Henry    male  35.0      0   \n",
       "\n",
       "   Parch            Ticket     Fare Cabin Embarked  \n",
       "0      0         A/5 21171   7.2500   NaN        S  \n",
       "1      0          PC 17599  71.2833   C85        C  \n",
       "2      0  STON/O2. 3101282   7.9250   NaN        S  \n",
       "3      0            113803  53.1000  C123        S  \n",
       "4      0            373450   8.0500   NaN        S  "
      ]
     },
     "execution_count": 5,
     "metadata": {},
     "output_type": "execute_result"
    }
   ],
   "source": [
    "titanic_train_data.head() # проверяем, что первый файл прочитался"
   ]
  },
  {
   "cell_type": "code",
   "execution_count": 6,
   "id": "22cf23b2",
   "metadata": {},
   "outputs": [
    {
     "data": {
      "text/plain": [
       "(891, 12)"
      ]
     },
     "execution_count": 6,
     "metadata": {},
     "output_type": "execute_result"
    }
   ],
   "source": [
    "titanic_train_data.shape # смотрим размерность датасета с тренировочными данными"
   ]
  },
  {
   "cell_type": "code",
   "execution_count": 7,
   "id": "776d916d",
   "metadata": {},
   "outputs": [
    {
     "name": "stdout",
     "output_type": "stream",
     "text": [
      "<class 'pandas.core.frame.DataFrame'>\n",
      "RangeIndex: 891 entries, 0 to 890\n",
      "Data columns (total 12 columns):\n",
      " #   Column       Non-Null Count  Dtype  \n",
      "---  ------       --------------  -----  \n",
      " 0   PassengerId  891 non-null    int64  \n",
      " 1   Survived     891 non-null    int64  \n",
      " 2   Pclass       891 non-null    int64  \n",
      " 3   Name         891 non-null    object \n",
      " 4   Sex          891 non-null    object \n",
      " 5   Age          714 non-null    float64\n",
      " 6   SibSp        891 non-null    int64  \n",
      " 7   Parch        891 non-null    int64  \n",
      " 8   Ticket       891 non-null    object \n",
      " 9   Fare         891 non-null    float64\n",
      " 10  Cabin        204 non-null    object \n",
      " 11  Embarked     889 non-null    object \n",
      "dtypes: float64(2), int64(5), object(5)\n",
      "memory usage: 83.7+ KB\n"
     ]
    }
   ],
   "source": [
    "titanic_train_data.info()"
   ]
  },
  {
   "cell_type": "markdown",
   "id": "516e7e42",
   "metadata": {},
   "source": [
    "# Предобработка данных"
   ]
  },
  {
   "cell_type": "code",
   "execution_count": 8,
   "id": "d66b0dfa",
   "metadata": {},
   "outputs": [
    {
     "data": {
      "text/html": [
       "<div>\n",
       "<style scoped>\n",
       "    .dataframe tbody tr th:only-of-type {\n",
       "        vertical-align: middle;\n",
       "    }\n",
       "\n",
       "    .dataframe tbody tr th {\n",
       "        vertical-align: top;\n",
       "    }\n",
       "\n",
       "    .dataframe thead th {\n",
       "        text-align: right;\n",
       "    }\n",
       "</style>\n",
       "<table border=\"1\" class=\"dataframe\">\n",
       "  <thead>\n",
       "    <tr style=\"text-align: right;\">\n",
       "      <th></th>\n",
       "      <th>Survived</th>\n",
       "      <th>Age</th>\n",
       "      <th>Pclass</th>\n",
       "    </tr>\n",
       "  </thead>\n",
       "  <tbody>\n",
       "    <tr>\n",
       "      <th>0</th>\n",
       "      <td>0</td>\n",
       "      <td>22.0</td>\n",
       "      <td>3</td>\n",
       "    </tr>\n",
       "    <tr>\n",
       "      <th>1</th>\n",
       "      <td>1</td>\n",
       "      <td>38.0</td>\n",
       "      <td>1</td>\n",
       "    </tr>\n",
       "    <tr>\n",
       "      <th>2</th>\n",
       "      <td>1</td>\n",
       "      <td>26.0</td>\n",
       "      <td>3</td>\n",
       "    </tr>\n",
       "    <tr>\n",
       "      <th>3</th>\n",
       "      <td>1</td>\n",
       "      <td>35.0</td>\n",
       "      <td>1</td>\n",
       "    </tr>\n",
       "    <tr>\n",
       "      <th>4</th>\n",
       "      <td>0</td>\n",
       "      <td>35.0</td>\n",
       "      <td>3</td>\n",
       "    </tr>\n",
       "  </tbody>\n",
       "</table>\n",
       "</div>"
      ],
      "text/plain": [
       "   Survived   Age  Pclass\n",
       "0         0  22.0       3\n",
       "1         1  38.0       1\n",
       "2         1  26.0       3\n",
       "3         1  35.0       1\n",
       "4         0  35.0       3"
      ]
     },
     "execution_count": 8,
     "metadata": {},
     "output_type": "execute_result"
    }
   ],
   "source": [
    "df = titanic_train_data[['Survived', 'Age', 'Pclass']] # создаём новый датасет для определения выживаемости по двум параметрам: Age и Pclass\n",
    "df.head()"
   ]
  },
  {
   "cell_type": "code",
   "execution_count": 9,
   "id": "8ef0fd98",
   "metadata": {},
   "outputs": [
    {
     "data": {
      "text/plain": [
       "(891, 3)"
      ]
     },
     "execution_count": 9,
     "metadata": {},
     "output_type": "execute_result"
    }
   ],
   "source": [
    "df.shape # проверяем размерность нового датасета"
   ]
  },
  {
   "cell_type": "code",
   "execution_count": 10,
   "id": "df6e2da9",
   "metadata": {},
   "outputs": [
    {
     "data": {
      "text/plain": [
       "0"
      ]
     },
     "execution_count": 10,
     "metadata": {},
     "output_type": "execute_result"
    }
   ],
   "source": [
    "np.sum(df['Survived'].isna()) # считаем количество ячеек в столбце Survived со значением NaN"
   ]
  },
  {
   "cell_type": "code",
   "execution_count": 11,
   "id": "b7c211bf",
   "metadata": {},
   "outputs": [
    {
     "data": {
      "text/plain": [
       "0"
      ]
     },
     "execution_count": 11,
     "metadata": {},
     "output_type": "execute_result"
    }
   ],
   "source": [
    "np.sum(df['Pclass'].isna()) # считаем количество ячеек в столбце Pclass со значением NaN"
   ]
  },
  {
   "cell_type": "code",
   "execution_count": 12,
   "id": "dd3c14c2",
   "metadata": {},
   "outputs": [
    {
     "data": {
      "text/plain": [
       "177"
      ]
     },
     "execution_count": 12,
     "metadata": {},
     "output_type": "execute_result"
    }
   ],
   "source": [
    "np.sum(df['Age'].isna()) # считаем количество ячеек в столбце Age со значением NaN"
   ]
  },
  {
   "cell_type": "markdown",
   "id": "d2ec339e",
   "metadata": {},
   "source": [
    "Для дальнейших исследований стоит почистить наш новый датафрейм, так как в столбце Age мы получили 177 строк со значением NaN, которые не подходят для обучения модели."
   ]
  },
  {
   "cell_type": "code",
   "execution_count": 13,
   "id": "70b4abd2",
   "metadata": {},
   "outputs": [
    {
     "data": {
      "text/plain": [
       "(714, 3)"
      ]
     },
     "execution_count": 13,
     "metadata": {},
     "output_type": "execute_result"
    }
   ],
   "source": [
    "df_dropna = df.dropna(axis=0) # избавляемся от всех рядов, где имеются значения NaN, с помощью метода dropna; axis=0 означает, что мы сбрасываем ряды, где содержатся значения NaN\n",
    "df_dropna.shape # проверяем размерность нового датасета"
   ]
  },
  {
   "cell_type": "code",
   "execution_count": 14,
   "id": "16ba361d",
   "metadata": {},
   "outputs": [
    {
     "data": {
      "text/html": [
       "<div>\n",
       "<style scoped>\n",
       "    .dataframe tbody tr th:only-of-type {\n",
       "        vertical-align: middle;\n",
       "    }\n",
       "\n",
       "    .dataframe tbody tr th {\n",
       "        vertical-align: top;\n",
       "    }\n",
       "\n",
       "    .dataframe thead th {\n",
       "        text-align: right;\n",
       "    }\n",
       "</style>\n",
       "<table border=\"1\" class=\"dataframe\">\n",
       "  <thead>\n",
       "    <tr style=\"text-align: right;\">\n",
       "      <th></th>\n",
       "      <th>Survived</th>\n",
       "      <th>Age</th>\n",
       "      <th>Pclass</th>\n",
       "    </tr>\n",
       "  </thead>\n",
       "  <tbody>\n",
       "    <tr>\n",
       "      <th>0</th>\n",
       "      <td>0</td>\n",
       "      <td>22.0</td>\n",
       "      <td>3</td>\n",
       "    </tr>\n",
       "    <tr>\n",
       "      <th>1</th>\n",
       "      <td>1</td>\n",
       "      <td>38.0</td>\n",
       "      <td>1</td>\n",
       "    </tr>\n",
       "    <tr>\n",
       "      <th>2</th>\n",
       "      <td>1</td>\n",
       "      <td>26.0</td>\n",
       "      <td>3</td>\n",
       "    </tr>\n",
       "    <tr>\n",
       "      <th>3</th>\n",
       "      <td>1</td>\n",
       "      <td>35.0</td>\n",
       "      <td>1</td>\n",
       "    </tr>\n",
       "    <tr>\n",
       "      <th>4</th>\n",
       "      <td>0</td>\n",
       "      <td>35.0</td>\n",
       "      <td>3</td>\n",
       "    </tr>\n",
       "  </tbody>\n",
       "</table>\n",
       "</div>"
      ],
      "text/plain": [
       "   Survived   Age  Pclass\n",
       "0         0  22.0       3\n",
       "1         1  38.0       1\n",
       "2         1  26.0       3\n",
       "3         1  35.0       1\n",
       "4         0  35.0       3"
      ]
     },
     "execution_count": 14,
     "metadata": {},
     "output_type": "execute_result"
    }
   ],
   "source": [
    "df_dropna.head()"
   ]
  },
  {
   "cell_type": "code",
   "execution_count": 15,
   "id": "4c9f0f67",
   "metadata": {},
   "outputs": [
    {
     "data": {
      "text/html": [
       "<div>\n",
       "<style scoped>\n",
       "    .dataframe tbody tr th:only-of-type {\n",
       "        vertical-align: middle;\n",
       "    }\n",
       "\n",
       "    .dataframe tbody tr th {\n",
       "        vertical-align: top;\n",
       "    }\n",
       "\n",
       "    .dataframe thead th {\n",
       "        text-align: right;\n",
       "    }\n",
       "</style>\n",
       "<table border=\"1\" class=\"dataframe\">\n",
       "  <thead>\n",
       "    <tr style=\"text-align: right;\">\n",
       "      <th></th>\n",
       "      <th>PassengerId</th>\n",
       "      <th>Pclass</th>\n",
       "      <th>Name</th>\n",
       "      <th>Sex</th>\n",
       "      <th>Age</th>\n",
       "      <th>SibSp</th>\n",
       "      <th>Parch</th>\n",
       "      <th>Ticket</th>\n",
       "      <th>Fare</th>\n",
       "      <th>Cabin</th>\n",
       "      <th>Embarked</th>\n",
       "    </tr>\n",
       "  </thead>\n",
       "  <tbody>\n",
       "    <tr>\n",
       "      <th>0</th>\n",
       "      <td>892</td>\n",
       "      <td>3</td>\n",
       "      <td>Kelly, Mr. James</td>\n",
       "      <td>male</td>\n",
       "      <td>34.5</td>\n",
       "      <td>0</td>\n",
       "      <td>0</td>\n",
       "      <td>330911</td>\n",
       "      <td>7.8292</td>\n",
       "      <td>NaN</td>\n",
       "      <td>Q</td>\n",
       "    </tr>\n",
       "    <tr>\n",
       "      <th>1</th>\n",
       "      <td>893</td>\n",
       "      <td>3</td>\n",
       "      <td>Wilkes, Mrs. James (Ellen Needs)</td>\n",
       "      <td>female</td>\n",
       "      <td>47.0</td>\n",
       "      <td>1</td>\n",
       "      <td>0</td>\n",
       "      <td>363272</td>\n",
       "      <td>7.0000</td>\n",
       "      <td>NaN</td>\n",
       "      <td>S</td>\n",
       "    </tr>\n",
       "    <tr>\n",
       "      <th>2</th>\n",
       "      <td>894</td>\n",
       "      <td>2</td>\n",
       "      <td>Myles, Mr. Thomas Francis</td>\n",
       "      <td>male</td>\n",
       "      <td>62.0</td>\n",
       "      <td>0</td>\n",
       "      <td>0</td>\n",
       "      <td>240276</td>\n",
       "      <td>9.6875</td>\n",
       "      <td>NaN</td>\n",
       "      <td>Q</td>\n",
       "    </tr>\n",
       "    <tr>\n",
       "      <th>3</th>\n",
       "      <td>895</td>\n",
       "      <td>3</td>\n",
       "      <td>Wirz, Mr. Albert</td>\n",
       "      <td>male</td>\n",
       "      <td>27.0</td>\n",
       "      <td>0</td>\n",
       "      <td>0</td>\n",
       "      <td>315154</td>\n",
       "      <td>8.6625</td>\n",
       "      <td>NaN</td>\n",
       "      <td>S</td>\n",
       "    </tr>\n",
       "    <tr>\n",
       "      <th>4</th>\n",
       "      <td>896</td>\n",
       "      <td>3</td>\n",
       "      <td>Hirvonen, Mrs. Alexander (Helga E Lindqvist)</td>\n",
       "      <td>female</td>\n",
       "      <td>22.0</td>\n",
       "      <td>1</td>\n",
       "      <td>1</td>\n",
       "      <td>3101298</td>\n",
       "      <td>12.2875</td>\n",
       "      <td>NaN</td>\n",
       "      <td>S</td>\n",
       "    </tr>\n",
       "  </tbody>\n",
       "</table>\n",
       "</div>"
      ],
      "text/plain": [
       "   PassengerId  Pclass                                          Name     Sex  \\\n",
       "0          892       3                              Kelly, Mr. James    male   \n",
       "1          893       3              Wilkes, Mrs. James (Ellen Needs)  female   \n",
       "2          894       2                     Myles, Mr. Thomas Francis    male   \n",
       "3          895       3                              Wirz, Mr. Albert    male   \n",
       "4          896       3  Hirvonen, Mrs. Alexander (Helga E Lindqvist)  female   \n",
       "\n",
       "    Age  SibSp  Parch   Ticket     Fare Cabin Embarked  \n",
       "0  34.5      0      0   330911   7.8292   NaN        Q  \n",
       "1  47.0      1      0   363272   7.0000   NaN        S  \n",
       "2  62.0      0      0   240276   9.6875   NaN        Q  \n",
       "3  27.0      0      0   315154   8.6625   NaN        S  \n",
       "4  22.0      1      1  3101298  12.2875   NaN        S  "
      ]
     },
     "execution_count": 15,
     "metadata": {},
     "output_type": "execute_result"
    }
   ],
   "source": [
    "titanic_test_data.head() # проверяем, что второй файл, содержащий тестовые данные, прочитался"
   ]
  },
  {
   "cell_type": "code",
   "execution_count": 16,
   "id": "466f97a0",
   "metadata": {},
   "outputs": [
    {
     "data": {
      "text/plain": [
       "0"
      ]
     },
     "execution_count": 16,
     "metadata": {},
     "output_type": "execute_result"
    }
   ],
   "source": [
    "np.sum(titanic_test_data['Pclass'].isna()) # считаем количество ячеек в столбце Pclass со значением NaN"
   ]
  },
  {
   "cell_type": "code",
   "execution_count": 17,
   "id": "a9b325ea",
   "metadata": {},
   "outputs": [
    {
     "data": {
      "text/plain": [
       "86"
      ]
     },
     "execution_count": 17,
     "metadata": {},
     "output_type": "execute_result"
    }
   ],
   "source": [
    "np.sum(titanic_test_data['Age'].isna()) # считаем количество ячеек в столбце Age со значением NaN"
   ]
  },
  {
   "cell_type": "code",
   "execution_count": 18,
   "id": "9ec4cff2",
   "metadata": {},
   "outputs": [
    {
     "data": {
      "text/plain": [
       "(714, 3)"
      ]
     },
     "execution_count": 18,
     "metadata": {},
     "output_type": "execute_result"
    }
   ],
   "source": [
    "titanic_test_dropna = df.dropna(axis=0) # избавляемся от всех рядов, где имеются значения NaN, с помощью метода dropna; axis=0 означает, что мы сбрасываем ряды, где содержатся значения NaN\n",
    "df_dropna.shape # проверяем размерность нового датасета"
   ]
  },
  {
   "cell_type": "code",
   "execution_count": 19,
   "id": "419e9c64",
   "metadata": {},
   "outputs": [],
   "source": [
    "X_train = df_dropna.drop('Survived', axis=1) # задаём в тренировочные данные для обучения модели столбцы Age и Pclass из тренировочного датасета\n",
    "Y_train = df_dropna['Survived'] # задаём в полученный результат для тренировочных данных столбец Survived из тренировочного датасета\n",
    "\n",
    "X_test = titanic_test_dropna[['Age', 'Pclass']] # задаём в тестовые данные, по которым будет проводиться обучение модели, столбцы Age и Pclass из тестоового датасета "
   ]
  },
  {
   "cell_type": "code",
   "execution_count": 20,
   "id": "4f79c303",
   "metadata": {},
   "outputs": [
    {
     "data": {
      "text/html": [
       "<div>\n",
       "<style scoped>\n",
       "    .dataframe tbody tr th:only-of-type {\n",
       "        vertical-align: middle;\n",
       "    }\n",
       "\n",
       "    .dataframe tbody tr th {\n",
       "        vertical-align: top;\n",
       "    }\n",
       "\n",
       "    .dataframe thead th {\n",
       "        text-align: right;\n",
       "    }\n",
       "</style>\n",
       "<table border=\"1\" class=\"dataframe\">\n",
       "  <thead>\n",
       "    <tr style=\"text-align: right;\">\n",
       "      <th></th>\n",
       "      <th>Age</th>\n",
       "      <th>Pclass</th>\n",
       "    </tr>\n",
       "  </thead>\n",
       "  <tbody>\n",
       "    <tr>\n",
       "      <th>0</th>\n",
       "      <td>22.0</td>\n",
       "      <td>3</td>\n",
       "    </tr>\n",
       "    <tr>\n",
       "      <th>1</th>\n",
       "      <td>38.0</td>\n",
       "      <td>1</td>\n",
       "    </tr>\n",
       "    <tr>\n",
       "      <th>2</th>\n",
       "      <td>26.0</td>\n",
       "      <td>3</td>\n",
       "    </tr>\n",
       "    <tr>\n",
       "      <th>3</th>\n",
       "      <td>35.0</td>\n",
       "      <td>1</td>\n",
       "    </tr>\n",
       "    <tr>\n",
       "      <th>4</th>\n",
       "      <td>35.0</td>\n",
       "      <td>3</td>\n",
       "    </tr>\n",
       "  </tbody>\n",
       "</table>\n",
       "</div>"
      ],
      "text/plain": [
       "    Age  Pclass\n",
       "0  22.0       3\n",
       "1  38.0       1\n",
       "2  26.0       3\n",
       "3  35.0       1\n",
       "4  35.0       3"
      ]
     },
     "execution_count": 20,
     "metadata": {},
     "output_type": "execute_result"
    }
   ],
   "source": [
    "X_train.head()"
   ]
  },
  {
   "cell_type": "code",
   "execution_count": 21,
   "id": "54e3f7fd",
   "metadata": {},
   "outputs": [
    {
     "data": {
      "text/plain": [
       "(714, 2)"
      ]
     },
     "execution_count": 21,
     "metadata": {},
     "output_type": "execute_result"
    }
   ],
   "source": [
    "X_train.shape"
   ]
  },
  {
   "cell_type": "code",
   "execution_count": 22,
   "id": "923a1566",
   "metadata": {},
   "outputs": [
    {
     "data": {
      "text/plain": [
       "88"
      ]
     },
     "execution_count": 22,
     "metadata": {},
     "output_type": "execute_result"
    }
   ],
   "source": [
    "len(X_train['Age'].unique()) # определяем количество уникальных значений столбца Age"
   ]
  },
  {
   "cell_type": "code",
   "execution_count": 23,
   "id": "094064dd",
   "metadata": {},
   "outputs": [
    {
     "data": {
      "text/plain": [
       "3"
      ]
     },
     "execution_count": 23,
     "metadata": {},
     "output_type": "execute_result"
    }
   ],
   "source": [
    "len(X_train['Pclass'].unique()) # определяем количество уникальных значений столбца Pclass"
   ]
  },
  {
   "cell_type": "code",
   "execution_count": 24,
   "id": "49860406",
   "metadata": {},
   "outputs": [
    {
     "data": {
      "text/plain": [
       "(714,)"
      ]
     },
     "execution_count": 24,
     "metadata": {},
     "output_type": "execute_result"
    }
   ],
   "source": [
    "Y_train.shape"
   ]
  },
  {
   "cell_type": "code",
   "execution_count": 25,
   "id": "8b9bce47",
   "metadata": {},
   "outputs": [
    {
     "data": {
      "text/plain": [
       "0    0\n",
       "1    1\n",
       "2    1\n",
       "3    1\n",
       "4    0\n",
       "Name: Survived, dtype: int64"
      ]
     },
     "execution_count": 25,
     "metadata": {},
     "output_type": "execute_result"
    }
   ],
   "source": [
    "Y_train.head()"
   ]
  },
  {
   "cell_type": "code",
   "execution_count": 26,
   "id": "2dfacf8d",
   "metadata": {},
   "outputs": [
    {
     "data": {
      "text/html": [
       "<div>\n",
       "<style scoped>\n",
       "    .dataframe tbody tr th:only-of-type {\n",
       "        vertical-align: middle;\n",
       "    }\n",
       "\n",
       "    .dataframe tbody tr th {\n",
       "        vertical-align: top;\n",
       "    }\n",
       "\n",
       "    .dataframe thead th {\n",
       "        text-align: right;\n",
       "    }\n",
       "</style>\n",
       "<table border=\"1\" class=\"dataframe\">\n",
       "  <thead>\n",
       "    <tr style=\"text-align: right;\">\n",
       "      <th></th>\n",
       "      <th>Age</th>\n",
       "      <th>Pclass</th>\n",
       "    </tr>\n",
       "  </thead>\n",
       "  <tbody>\n",
       "    <tr>\n",
       "      <th>0</th>\n",
       "      <td>22.0</td>\n",
       "      <td>3</td>\n",
       "    </tr>\n",
       "    <tr>\n",
       "      <th>1</th>\n",
       "      <td>38.0</td>\n",
       "      <td>1</td>\n",
       "    </tr>\n",
       "    <tr>\n",
       "      <th>2</th>\n",
       "      <td>26.0</td>\n",
       "      <td>3</td>\n",
       "    </tr>\n",
       "    <tr>\n",
       "      <th>3</th>\n",
       "      <td>35.0</td>\n",
       "      <td>1</td>\n",
       "    </tr>\n",
       "    <tr>\n",
       "      <th>4</th>\n",
       "      <td>35.0</td>\n",
       "      <td>3</td>\n",
       "    </tr>\n",
       "  </tbody>\n",
       "</table>\n",
       "</div>"
      ],
      "text/plain": [
       "    Age  Pclass\n",
       "0  22.0       3\n",
       "1  38.0       1\n",
       "2  26.0       3\n",
       "3  35.0       1\n",
       "4  35.0       3"
      ]
     },
     "execution_count": 26,
     "metadata": {},
     "output_type": "execute_result"
    }
   ],
   "source": [
    "X_test.head()"
   ]
  },
  {
   "cell_type": "code",
   "execution_count": 27,
   "id": "d72544a9",
   "metadata": {},
   "outputs": [
    {
     "data": {
      "text/plain": [
       "(714, 2)"
      ]
     },
     "execution_count": 27,
     "metadata": {},
     "output_type": "execute_result"
    }
   ],
   "source": [
    "X_test.shape"
   ]
  },
  {
   "cell_type": "code",
   "execution_count": 28,
   "id": "1cbbbc90",
   "metadata": {},
   "outputs": [
    {
     "data": {
      "text/plain": [
       "88"
      ]
     },
     "execution_count": 28,
     "metadata": {},
     "output_type": "execute_result"
    }
   ],
   "source": [
    "len(X_test['Age'].unique()) # определяем количество уникальных значений столбца Age"
   ]
  },
  {
   "cell_type": "markdown",
   "id": "f0c12d27",
   "metadata": {},
   "source": [
    "Применим **one-hot кодирование** для получения данных в виде значений \"0\" и \"1\"."
   ]
  },
  {
   "cell_type": "code",
   "execution_count": 29,
   "id": "95d037c3",
   "metadata": {},
   "outputs": [
    {
     "data": {
      "text/plain": [
       "array([[[0., 0., 0., ..., 0., 0., 0.],\n",
       "        [0., 0., 0., ..., 0., 0., 0.]],\n",
       "\n",
       "       [[0., 0., 0., ..., 0., 0., 0.],\n",
       "        [0., 1., 0., ..., 0., 0., 0.]],\n",
       "\n",
       "       [[0., 0., 0., ..., 0., 0., 0.],\n",
       "        [0., 0., 0., ..., 0., 0., 0.]],\n",
       "\n",
       "       ...,\n",
       "\n",
       "       [[0., 0., 0., ..., 0., 0., 0.],\n",
       "        [0., 1., 0., ..., 0., 0., 0.]],\n",
       "\n",
       "       [[0., 0., 0., ..., 0., 0., 0.],\n",
       "        [0., 1., 0., ..., 0., 0., 0.]],\n",
       "\n",
       "       [[0., 0., 0., ..., 0., 0., 0.],\n",
       "        [0., 0., 0., ..., 0., 0., 0.]]], dtype=float32)"
      ]
     },
     "execution_count": 29,
     "metadata": {},
     "output_type": "execute_result"
    }
   ],
   "source": [
    "X_train_cat = np_utils.to_categorical(X_train, len(X_train['Age'].unique())) # предобрабатываем датасет со значениями \"labels\" с помощью метода \"np_utils\" из библиотеки \"keras\" модуля \"utils\"; применяем технику \"one-hot encoding\"; len(X_train['Age'].unique - это количество классов, которые мы задаём в данном датасете\n",
    "X_train_cat"
   ]
  },
  {
   "cell_type": "code",
   "execution_count": 30,
   "id": "95250f71",
   "metadata": {},
   "outputs": [
    {
     "data": {
      "text/plain": [
       "(714, 2, 88)"
      ]
     },
     "execution_count": 30,
     "metadata": {},
     "output_type": "execute_result"
    }
   ],
   "source": [
    "X_train_cat.shape"
   ]
  },
  {
   "cell_type": "code",
   "execution_count": 31,
   "id": "1068c5e5",
   "metadata": {},
   "outputs": [],
   "source": [
    "X_train_flat = X_train_cat.reshape(X_train_cat.shape[0], X_train_cat.shape[1] * X_train_cat.shape[2]) # преобразовываем данные 'X_train' в двумерный массив, чтобы нейронная сеть смогла принять входные данные, расскладывая полученное значение 'X_train_cat' на отдельные значения"
   ]
  },
  {
   "cell_type": "code",
   "execution_count": 32,
   "id": "a65a4e79",
   "metadata": {},
   "outputs": [
    {
     "data": {
      "text/plain": [
       "(714, 176)"
      ]
     },
     "execution_count": 32,
     "metadata": {},
     "output_type": "execute_result"
    }
   ],
   "source": [
    "X_train_flat.shape"
   ]
  },
  {
   "cell_type": "code",
   "execution_count": 33,
   "id": "ceef8b33",
   "metadata": {},
   "outputs": [],
   "source": [
    "Y_train_cat = np_utils.to_categorical(Y_train, 2)"
   ]
  },
  {
   "cell_type": "code",
   "execution_count": 34,
   "id": "60cc9832",
   "metadata": {},
   "outputs": [
    {
     "data": {
      "text/plain": [
       "(714, 2)"
      ]
     },
     "execution_count": 34,
     "metadata": {},
     "output_type": "execute_result"
    }
   ],
   "source": [
    "Y_train_cat.shape"
   ]
  },
  {
   "cell_type": "code",
   "execution_count": 35,
   "id": "b1276054",
   "metadata": {},
   "outputs": [
    {
     "data": {
      "text/plain": [
       "array([[1., 0.],\n",
       "       [0., 1.],\n",
       "       [0., 1.],\n",
       "       ...,\n",
       "       [0., 1.],\n",
       "       [0., 1.],\n",
       "       [1., 0.]], dtype=float32)"
      ]
     },
     "execution_count": 35,
     "metadata": {},
     "output_type": "execute_result"
    }
   ],
   "source": [
    "Y_train_cat"
   ]
  },
  {
   "cell_type": "code",
   "execution_count": 36,
   "id": "6a2f30d0",
   "metadata": {},
   "outputs": [
    {
     "data": {
      "text/plain": [
       "array([[[0., 0., 0., ..., 0., 0., 0.],\n",
       "        [0., 0., 0., ..., 0., 0., 0.]],\n",
       "\n",
       "       [[0., 0., 0., ..., 0., 0., 0.],\n",
       "        [0., 1., 0., ..., 0., 0., 0.]],\n",
       "\n",
       "       [[0., 0., 0., ..., 0., 0., 0.],\n",
       "        [0., 0., 0., ..., 0., 0., 0.]],\n",
       "\n",
       "       ...,\n",
       "\n",
       "       [[0., 0., 0., ..., 0., 0., 0.],\n",
       "        [0., 1., 0., ..., 0., 0., 0.]],\n",
       "\n",
       "       [[0., 0., 0., ..., 0., 0., 0.],\n",
       "        [0., 1., 0., ..., 0., 0., 0.]],\n",
       "\n",
       "       [[0., 0., 0., ..., 0., 0., 0.],\n",
       "        [0., 0., 0., ..., 0., 0., 0.]]], dtype=float32)"
      ]
     },
     "execution_count": 36,
     "metadata": {},
     "output_type": "execute_result"
    }
   ],
   "source": [
    "X_test_cat = np_utils.to_categorical(X_test, len(X_test['Age'].unique())) # предобрабатываем датасет со значениями \"labels\"\n",
    "X_test_cat"
   ]
  },
  {
   "cell_type": "code",
   "execution_count": 37,
   "id": "85e3125b",
   "metadata": {},
   "outputs": [
    {
     "data": {
      "text/plain": [
       "(714, 2, 88)"
      ]
     },
     "execution_count": 37,
     "metadata": {},
     "output_type": "execute_result"
    }
   ],
   "source": [
    "X_test_cat.shape"
   ]
  },
  {
   "cell_type": "code",
   "execution_count": 38,
   "id": "d408797b",
   "metadata": {},
   "outputs": [],
   "source": [
    "X_test_flat = X_test_cat.reshape(X_test_cat.shape[0], X_test_cat.shape[1] * X_test_cat.shape[2]) # преобразовываем данные 'X_test' в двумерный массив"
   ]
  },
  {
   "cell_type": "code",
   "execution_count": 39,
   "id": "5db417c9",
   "metadata": {},
   "outputs": [
    {
     "data": {
      "text/plain": [
       "(714, 176)"
      ]
     },
     "execution_count": 39,
     "metadata": {},
     "output_type": "execute_result"
    }
   ],
   "source": [
    "X_test_flat.shape"
   ]
  },
  {
   "cell_type": "code",
   "execution_count": 40,
   "id": "75421d38",
   "metadata": {},
   "outputs": [
    {
     "data": {
      "text/plain": [
       "array([[0., 0., 0., ..., 0., 0., 0.],\n",
       "       [0., 0., 0., ..., 0., 0., 0.],\n",
       "       [0., 0., 0., ..., 0., 0., 0.],\n",
       "       ...,\n",
       "       [0., 0., 0., ..., 0., 0., 0.],\n",
       "       [0., 0., 0., ..., 0., 0., 0.],\n",
       "       [0., 0., 0., ..., 0., 0., 0.]], dtype=float32)"
      ]
     },
     "execution_count": 40,
     "metadata": {},
     "output_type": "execute_result"
    }
   ],
   "source": [
    "X_test_flat"
   ]
  },
  {
   "cell_type": "markdown",
   "id": "43679c0f",
   "metadata": {},
   "source": [
    "# Создание модели нейронной сети"
   ]
  },
  {
   "cell_type": "code",
   "execution_count": 41,
   "id": "f5247af1",
   "metadata": {},
   "outputs": [
    {
     "name": "stderr",
     "output_type": "stream",
     "text": [
      "2022-12-06 18:34:58.593223: I tensorflow/core/platform/cpu_feature_guard.cc:193] This TensorFlow binary is optimized with oneAPI Deep Neural Network Library (oneDNN) to use the following CPU instructions in performance-critical operations:  AVX2 FMA\n",
      "To enable them in other operations, rebuild TensorFlow with the appropriate compiler flags.\n"
     ]
    }
   ],
   "source": [
    "model = Sequential()\n",
    "\n",
    "model.add(Dense(512, input_shape=(176, ), activation='relu', name=\"dense_1\")) # добавляем ранее импортированный модуль Dense из библиотеки \"keras\" в нашу нейронную сеть (модель) - это будет первый скрытый слой нашей модели; задаём количество нейронов - 512; передаём параметр \"input_shape\" - размерность данных, на которых будет обучаться нейросеть (значение X_train_flat.shape[1]); добавляем активацию \"relu\"\n",
    "model.add(Dense(512, activation='relu', name=\"dense_2\")) # добавляем ещё один скрытый слой\n",
    "model.add(Dropout(0.3))\n",
    "model.add(Dense(2, activation='softmax', name=\"output\")) # 2 - количество классов (0 и 1 - выжил пассажир или нет); добавляем активацию \"softmax\", чтобы все вероятности суммировались в единиицу (\"1\")"
   ]
  },
  {
   "cell_type": "code",
   "execution_count": 42,
   "id": "83d53e71",
   "metadata": {},
   "outputs": [
    {
     "name": "stdout",
     "output_type": "stream",
     "text": [
      "Model: \"sequential\"\n",
      "_________________________________________________________________\n",
      " Layer (type)                Output Shape              Param #   \n",
      "=================================================================\n",
      " dense_1 (Dense)             (None, 512)               90624     \n",
      "                                                                 \n",
      " dense_2 (Dense)             (None, 512)               262656    \n",
      "                                                                 \n",
      " dropout (Dropout)           (None, 512)               0         \n",
      "                                                                 \n",
      " output (Dense)              (None, 2)                 1026      \n",
      "                                                                 \n",
      "=================================================================\n",
      "Total params: 354,306\n",
      "Trainable params: 354,306\n",
      "Non-trainable params: 0\n",
      "_________________________________________________________________\n"
     ]
    }
   ],
   "source": [
    "model.summary() # выводим описание нашей нейросети"
   ]
  },
  {
   "cell_type": "code",
   "execution_count": 43,
   "id": "6e17f6d2",
   "metadata": {},
   "outputs": [],
   "source": [
    "model.compile( # компилируем модель\n",
    "    loss='categorical_crossentropy', # задаём функцию ошибки (у нас задача классификации)\n",
    "    optimizer='adam', # оптимизатор (как модель будет обучаться, изменять веса)\n",
    "    metrics=['accuracy']) # метрики (точность \"accuracy\")"
   ]
  },
  {
   "cell_type": "code",
   "execution_count": 44,
   "id": "501c1fb0",
   "metadata": {},
   "outputs": [
    {
     "name": "stdout",
     "output_type": "stream",
     "text": [
      "Epoch 1/10\n",
      "6/6 [==============================] - 1s 13ms/step - loss: 0.6509 - accuracy: 0.5770\n",
      "Epoch 2/10\n",
      "6/6 [==============================] - 0s 12ms/step - loss: 0.6000 - accuracy: 0.6961\n",
      "Epoch 3/10\n",
      "6/6 [==============================] - 0s 12ms/step - loss: 0.5844 - accuracy: 0.6975\n",
      "Epoch 4/10\n",
      "6/6 [==============================] - 0s 14ms/step - loss: 0.5658 - accuracy: 0.7157\n",
      "Epoch 5/10\n",
      "6/6 [==============================] - 0s 14ms/step - loss: 0.5502 - accuracy: 0.7255\n",
      "Epoch 6/10\n",
      "6/6 [==============================] - 0s 14ms/step - loss: 0.5310 - accuracy: 0.7395\n",
      "Epoch 7/10\n",
      "6/6 [==============================] - 0s 15ms/step - loss: 0.5111 - accuracy: 0.7647\n",
      "Epoch 8/10\n",
      "6/6 [==============================] - 0s 14ms/step - loss: 0.5001 - accuracy: 0.7605\n",
      "Epoch 9/10\n",
      "6/6 [==============================] - 0s 13ms/step - loss: 0.4951 - accuracy: 0.7717\n",
      "Epoch 10/10\n",
      "6/6 [==============================] - 0s 17ms/step - loss: 0.4789 - accuracy: 0.7759\n"
     ]
    },
    {
     "data": {
      "text/plain": [
       "<keras.callbacks.History at 0x7fb000da4970>"
      ]
     },
     "execution_count": 44,
     "metadata": {},
     "output_type": "execute_result"
    }
   ],
   "source": [
    "model.fit(X_train_flat, Y_train_cat, epochs=10, batch_size=128, verbose=1) # обучение модели на тренировочных данных; вызываем метод \"fit\" для объекта \"model\"; передаём параметры, на которых будет обучаться модель: X_train_flat (featers), Y_train_cat (labels), epochs (количество итераций через полный набор данных), batch_size (количество экземпляров, которые за раз проходит модель), verbose (определяет то, что будет печатать модель на выходе - progress bar)"
   ]
  },
  {
   "cell_type": "code",
   "execution_count": 45,
   "id": "f826cf49",
   "metadata": {},
   "outputs": [
    {
     "name": "stdout",
     "output_type": "stream",
     "text": [
      "23/23 [==============================] - 0s 3ms/step\n"
     ]
    }
   ],
   "source": [
    "Y_pred = model.predict(X_test_flat) # делаем предсказание\n",
    "Y_pred = np.array(Y_pred)\n",
    "Y_pred = Y_pred.flatten()"
   ]
  },
  {
   "cell_type": "code",
   "execution_count": 46,
   "id": "4c982899",
   "metadata": {},
   "outputs": [
    {
     "data": {
      "text/plain": [
       "array([0.81431013, 0.18568987, 0.41241077, ..., 0.77692854, 0.5957532 ,\n",
       "       0.4042468 ], dtype=float32)"
      ]
     },
     "execution_count": 46,
     "metadata": {},
     "output_type": "execute_result"
    }
   ],
   "source": [
    "Y_pred"
   ]
  },
  {
   "cell_type": "code",
   "execution_count": 47,
   "id": "6eb61ec5",
   "metadata": {},
   "outputs": [],
   "source": [
    "# формируем массив данных из \"0\" (не выжил) и \"1\" (выжил), приняв полученные в ходе предсказания значения меньше 0,5 за 0, а значения больше 0,5 за 1\n",
    "Y_pred[Y_pred<0.5] = 0\n",
    "Y_pred[Y_pred>0] = 1\n",
    "Y_pred = Y_pred.astype(int) # переводим значения массива в целые числа"
   ]
  },
  {
   "cell_type": "code",
   "execution_count": 48,
   "id": "1fc7967c",
   "metadata": {},
   "outputs": [
    {
     "data": {
      "text/plain": [
       "array([1, 0, 0, ..., 1, 1, 0])"
      ]
     },
     "execution_count": 48,
     "metadata": {},
     "output_type": "execute_result"
    }
   ],
   "source": [
    "Y_pred"
   ]
  },
  {
   "cell_type": "markdown",
   "id": "c0b593c4",
   "metadata": {},
   "source": [
    "# Обработка полученных результатов"
   ]
  },
  {
   "cell_type": "code",
   "execution_count": 49,
   "id": "48d6085d",
   "metadata": {},
   "outputs": [
    {
     "data": {
      "text/plain": [
       "(714,)"
      ]
     },
     "execution_count": 49,
     "metadata": {},
     "output_type": "execute_result"
    }
   ],
   "source": [
    "Y_new = Y_pred[:714] # берём первые 714 значений, так как ранее мы определили, что в датафрейме X_test 714 строк\n",
    "Y_new.shape"
   ]
  },
  {
   "cell_type": "code",
   "execution_count": 50,
   "id": "ed76c27f",
   "metadata": {},
   "outputs": [
    {
     "data": {
      "text/html": [
       "<div>\n",
       "<style scoped>\n",
       "    .dataframe tbody tr th:only-of-type {\n",
       "        vertical-align: middle;\n",
       "    }\n",
       "\n",
       "    .dataframe tbody tr th {\n",
       "        vertical-align: top;\n",
       "    }\n",
       "\n",
       "    .dataframe thead th {\n",
       "        text-align: right;\n",
       "    }\n",
       "</style>\n",
       "<table border=\"1\" class=\"dataframe\">\n",
       "  <thead>\n",
       "    <tr style=\"text-align: right;\">\n",
       "      <th></th>\n",
       "      <th>Age</th>\n",
       "      <th>Pclass</th>\n",
       "      <th>Survived</th>\n",
       "    </tr>\n",
       "  </thead>\n",
       "  <tbody>\n",
       "    <tr>\n",
       "      <th>0</th>\n",
       "      <td>22.0</td>\n",
       "      <td>3</td>\n",
       "      <td>1</td>\n",
       "    </tr>\n",
       "    <tr>\n",
       "      <th>1</th>\n",
       "      <td>38.0</td>\n",
       "      <td>1</td>\n",
       "      <td>0</td>\n",
       "    </tr>\n",
       "    <tr>\n",
       "      <th>2</th>\n",
       "      <td>26.0</td>\n",
       "      <td>3</td>\n",
       "      <td>0</td>\n",
       "    </tr>\n",
       "    <tr>\n",
       "      <th>3</th>\n",
       "      <td>35.0</td>\n",
       "      <td>1</td>\n",
       "      <td>1</td>\n",
       "    </tr>\n",
       "    <tr>\n",
       "      <th>4</th>\n",
       "      <td>35.0</td>\n",
       "      <td>3</td>\n",
       "      <td>1</td>\n",
       "    </tr>\n",
       "    <tr>\n",
       "      <th>...</th>\n",
       "      <td>...</td>\n",
       "      <td>...</td>\n",
       "      <td>...</td>\n",
       "    </tr>\n",
       "    <tr>\n",
       "      <th>885</th>\n",
       "      <td>39.0</td>\n",
       "      <td>3</td>\n",
       "      <td>0</td>\n",
       "    </tr>\n",
       "    <tr>\n",
       "      <th>886</th>\n",
       "      <td>27.0</td>\n",
       "      <td>2</td>\n",
       "      <td>1</td>\n",
       "    </tr>\n",
       "    <tr>\n",
       "      <th>887</th>\n",
       "      <td>19.0</td>\n",
       "      <td>1</td>\n",
       "      <td>0</td>\n",
       "    </tr>\n",
       "    <tr>\n",
       "      <th>889</th>\n",
       "      <td>26.0</td>\n",
       "      <td>1</td>\n",
       "      <td>1</td>\n",
       "    </tr>\n",
       "    <tr>\n",
       "      <th>890</th>\n",
       "      <td>32.0</td>\n",
       "      <td>3</td>\n",
       "      <td>0</td>\n",
       "    </tr>\n",
       "  </tbody>\n",
       "</table>\n",
       "<p>714 rows × 3 columns</p>\n",
       "</div>"
      ],
      "text/plain": [
       "      Age  Pclass  Survived\n",
       "0    22.0       3         1\n",
       "1    38.0       1         0\n",
       "2    26.0       3         0\n",
       "3    35.0       1         1\n",
       "4    35.0       3         1\n",
       "..    ...     ...       ...\n",
       "885  39.0       3         0\n",
       "886  27.0       2         1\n",
       "887  19.0       1         0\n",
       "889  26.0       1         1\n",
       "890  32.0       3         0\n",
       "\n",
       "[714 rows x 3 columns]"
      ]
     },
     "execution_count": 50,
     "metadata": {},
     "output_type": "execute_result"
    }
   ],
   "source": [
    "X_test[\"Survived\"] = Y_new # добавляем новый столбец \"Survived\" в датафрейм X_test\n",
    "X_test"
   ]
  },
  {
   "cell_type": "code",
   "execution_count": 51,
   "id": "bbcc09ab",
   "metadata": {},
   "outputs": [],
   "source": [
    "X_test.to_csv(\"result_2.csv\") # полученный датафрейм сохраняем в файл с разрешением .csv"
   ]
  },
  {
   "cell_type": "markdown",
   "id": "0c5ea3b8",
   "metadata": {},
   "source": [
    "# Сравнение результатов, полученных двумя способами решения задачи"
   ]
  },
  {
   "cell_type": "code",
   "execution_count": 52,
   "id": "37df0dac",
   "metadata": {},
   "outputs": [],
   "source": [
    "df_result_1 = pd.read_csv('https://raw.githubusercontent.com/Andruchelli/Titanic/main/result_1.csv') # прочитаем файл с результатами 1-го варианта решения задачи\n",
    "df_result_2 = pd.read_csv('https://raw.githubusercontent.com/Andruchelli/Titanic/main/result_2.csv') # прочитаем файл с результатами 2-го варианта решения задачи"
   ]
  },
  {
   "cell_type": "code",
   "execution_count": 53,
   "id": "85244a40",
   "metadata": {},
   "outputs": [],
   "source": [
    "df_comp = pd.DataFrame() # создаём новый датафрейм \"df_comp\""
   ]
  },
  {
   "cell_type": "code",
   "execution_count": 54,
   "id": "cdd1338c",
   "metadata": {},
   "outputs": [
    {
     "data": {
      "text/html": [
       "<div>\n",
       "<style scoped>\n",
       "    .dataframe tbody tr th:only-of-type {\n",
       "        vertical-align: middle;\n",
       "    }\n",
       "\n",
       "    .dataframe tbody tr th {\n",
       "        vertical-align: top;\n",
       "    }\n",
       "\n",
       "    .dataframe thead th {\n",
       "        text-align: right;\n",
       "    }\n",
       "</style>\n",
       "<table border=\"1\" class=\"dataframe\">\n",
       "  <thead>\n",
       "    <tr style=\"text-align: right;\">\n",
       "      <th></th>\n",
       "      <th>Survived_1</th>\n",
       "      <th>Survived_2</th>\n",
       "    </tr>\n",
       "  </thead>\n",
       "  <tbody>\n",
       "    <tr>\n",
       "      <th>0</th>\n",
       "      <td>0</td>\n",
       "      <td>1</td>\n",
       "    </tr>\n",
       "    <tr>\n",
       "      <th>1</th>\n",
       "      <td>1</td>\n",
       "      <td>0</td>\n",
       "    </tr>\n",
       "    <tr>\n",
       "      <th>2</th>\n",
       "      <td>0</td>\n",
       "      <td>0</td>\n",
       "    </tr>\n",
       "    <tr>\n",
       "      <th>3</th>\n",
       "      <td>1</td>\n",
       "      <td>1</td>\n",
       "    </tr>\n",
       "    <tr>\n",
       "      <th>4</th>\n",
       "      <td>0</td>\n",
       "      <td>1</td>\n",
       "    </tr>\n",
       "  </tbody>\n",
       "</table>\n",
       "</div>"
      ],
      "text/plain": [
       "   Survived_1  Survived_2\n",
       "0           0           1\n",
       "1           1           0\n",
       "2           0           0\n",
       "3           1           1\n",
       "4           0           1"
      ]
     },
     "execution_count": 54,
     "metadata": {},
     "output_type": "execute_result"
    }
   ],
   "source": [
    "df_comp[\"Survived_1\"] = df_result_1[\"Survived\"] # добавляем столбец \"Survived_1\" с результатами 1-го варианта решения задачи\n",
    "df_comp[\"Survived_2\"] = df_result_2[\"Survived\"] # добавляем столбец \"Survived_2\" с результатами 2-го варианта решения задачи\n",
    "df_comp.head()"
   ]
  },
  {
   "cell_type": "code",
   "execution_count": 55,
   "id": "8f4c0eb3",
   "metadata": {},
   "outputs": [
    {
     "data": {
      "text/html": [
       "<div>\n",
       "<style scoped>\n",
       "    .dataframe tbody tr th:only-of-type {\n",
       "        vertical-align: middle;\n",
       "    }\n",
       "\n",
       "    .dataframe tbody tr th {\n",
       "        vertical-align: top;\n",
       "    }\n",
       "\n",
       "    .dataframe thead th {\n",
       "        text-align: right;\n",
       "    }\n",
       "</style>\n",
       "<table border=\"1\" class=\"dataframe\">\n",
       "  <thead>\n",
       "    <tr style=\"text-align: right;\">\n",
       "      <th></th>\n",
       "      <th>Survived_1</th>\n",
       "      <th>Survived_2</th>\n",
       "      <th>Compare</th>\n",
       "    </tr>\n",
       "  </thead>\n",
       "  <tbody>\n",
       "    <tr>\n",
       "      <th>0</th>\n",
       "      <td>0</td>\n",
       "      <td>1</td>\n",
       "      <td>False</td>\n",
       "    </tr>\n",
       "    <tr>\n",
       "      <th>1</th>\n",
       "      <td>1</td>\n",
       "      <td>0</td>\n",
       "      <td>False</td>\n",
       "    </tr>\n",
       "    <tr>\n",
       "      <th>2</th>\n",
       "      <td>0</td>\n",
       "      <td>0</td>\n",
       "      <td>True</td>\n",
       "    </tr>\n",
       "    <tr>\n",
       "      <th>3</th>\n",
       "      <td>1</td>\n",
       "      <td>1</td>\n",
       "      <td>True</td>\n",
       "    </tr>\n",
       "    <tr>\n",
       "      <th>4</th>\n",
       "      <td>0</td>\n",
       "      <td>1</td>\n",
       "      <td>False</td>\n",
       "    </tr>\n",
       "  </tbody>\n",
       "</table>\n",
       "</div>"
      ],
      "text/plain": [
       "   Survived_1  Survived_2  Compare\n",
       "0           0           1    False\n",
       "1           1           0    False\n",
       "2           0           0     True\n",
       "3           1           1     True\n",
       "4           0           1    False"
      ]
     },
     "execution_count": 55,
     "metadata": {},
     "output_type": "execute_result"
    }
   ],
   "source": [
    "df_comp[\"Compare\"] = df_result_1[\"Survived\"] == df_result_2['Survived'] # сравниваем результаты\n",
    "df_comp.head()"
   ]
  },
  {
   "cell_type": "code",
   "execution_count": 65,
   "id": "07e5603c",
   "metadata": {},
   "outputs": [
    {
     "data": {
      "text/plain": [
       "346"
      ]
     },
     "execution_count": 65,
     "metadata": {},
     "output_type": "execute_result"
    }
   ],
   "source": [
    "len(df_comp[df_comp[\"Compare\"] == True]) # считаем количество совпавших результатов (True)"
   ]
  },
  {
   "cell_type": "code",
   "execution_count": 66,
   "id": "f01517eb",
   "metadata": {},
   "outputs": [
    {
     "data": {
      "text/plain": [
       "368"
      ]
     },
     "execution_count": 66,
     "metadata": {},
     "output_type": "execute_result"
    }
   ],
   "source": [
    "len(df_comp[df_comp[\"Compare\"] == False]) # считаем количество не совпавших результатов (False)"
   ]
  },
  {
   "cell_type": "markdown",
   "id": "b0366a5c",
   "metadata": {},
   "source": [
    "# Применение класса функций обратного вызова EarlyStopping"
   ]
  },
  {
   "cell_type": "markdown",
   "id": "28d47001",
   "metadata": {},
   "source": [
    "Для досрочного завершения процесса обучения, к примеру, когда показатель качества (значение функции потерь) снижается очень медленно или за заданное количество эпох (параметр patience) потери не уменьшаются, можно воспользоваться встроенным классом **callbackEarlyStopping**.\n",
    "\n",
    "В таком случае обучение будет преждевременно остановлено в соответствии с заданными параметрами класса."
   ]
  },
  {
   "cell_type": "code",
   "execution_count": 70,
   "id": "7d79e23f",
   "metadata": {},
   "outputs": [],
   "source": [
    "from keras.callbacks import EarlyStopping # импортируем класс EarlyStopping из бибилиотеки keras"
   ]
  },
  {
   "cell_type": "code",
   "execution_count": 71,
   "id": "6bdabd2b",
   "metadata": {},
   "outputs": [
    {
     "name": "stdout",
     "output_type": "stream",
     "text": [
      "Epoch 1/10\n",
      "6/6 [==============================] - 0s 13ms/step - loss: 0.4454 - accuracy: 0.7717\n",
      "Epoch 2/10\n",
      "6/6 [==============================] - 0s 14ms/step - loss: 0.4457 - accuracy: 0.7689\n",
      "Epoch 3/10\n",
      "6/6 [==============================] - 0s 12ms/step - loss: 0.4436 - accuracy: 0.7829\n",
      "Epoch 4/10\n",
      "6/6 [==============================] - 0s 15ms/step - loss: 0.4420 - accuracy: 0.7801\n",
      "Epoch 5/10\n",
      "6/6 [==============================] - 0s 13ms/step - loss: 0.4455 - accuracy: 0.7717\n",
      "Epoch 6/10\n",
      "6/6 [==============================] - 0s 13ms/step - loss: 0.4388 - accuracy: 0.7801\n",
      "Epoch 6: early stopping\n"
     ]
    },
    {
     "data": {
      "text/plain": [
       "<keras.callbacks.History at 0x7fafe1ec0d60>"
      ]
     },
     "execution_count": 71,
     "metadata": {},
     "output_type": "execute_result"
    }
   ],
   "source": [
    "callbacks = [\n",
    "    keras.callbacks.EarlyStopping(monitor=\"loss\", min_delta=0.03, patience=5, verbose=1) # задаём параметры monitor (отслеживаемый показатель качества) равное значению функции потерь, min_delta (разница в изменении значения функции потерь) равное 0,03 (обычно составляет от 0,01), patience (количество эпох) равное 2\n",
    "]\n",
    " \n",
    "model.fit(X_train_flat, Y_train_cat, epochs=10, batch_size=128, verbose=1, callbacks=callbacks)"
   ]
  },
  {
   "cell_type": "markdown",
   "id": "f050572b",
   "metadata": {},
   "source": [
    "# Сохранение модели"
   ]
  },
  {
   "cell_type": "markdown",
   "id": "ae4ca307",
   "metadata": {},
   "source": [
    "Для сохранения модели в виде файла **HDF5** Keras использует пакет **h5py**."
   ]
  },
  {
   "cell_type": "code",
   "execution_count": 72,
   "id": "a123abf3",
   "metadata": {},
   "outputs": [],
   "source": [
    "import h5py"
   ]
  },
  {
   "cell_type": "code",
   "execution_count": 73,
   "id": "92fc275d",
   "metadata": {},
   "outputs": [],
   "source": [
    "model.save('titanic_model.h5') # сохраняем модель в файл с расширением .h5"
   ]
  },
  {
   "cell_type": "markdown",
   "id": "daee60b1",
   "metadata": {},
   "source": [
    "# Применение визуализации процесса обучения модели с помощью плагина TensorBoard"
   ]
  },
  {
   "cell_type": "code",
   "execution_count": 81,
   "id": "ec2d59b2",
   "metadata": {},
   "outputs": [],
   "source": [
    "from keras.callbacks import TensorBoard # импортируем класс TensorBoard из бибилиотеки keras\n",
    "import datetime"
   ]
  },
  {
   "cell_type": "code",
   "execution_count": 87,
   "id": "91f7291b",
   "metadata": {},
   "outputs": [],
   "source": [
    "log_dir = \"logs/fit/\" + datetime.datetime.now().strftime(\"%Y%m%d-%H%M%S\") # задаём директорию для хранения логов – мини-отчетов обучения. Используем метод now() библиотеки datetime, чтобы именовать каждый файл лога временным штампом – год, месяц, день, час, минута, секунда"
   ]
  },
  {
   "cell_type": "code",
   "execution_count": 88,
   "id": "543c176a",
   "metadata": {},
   "outputs": [],
   "source": [
    "tensorboard_callback = tf.keras.callbacks.TensorBoard(log_dir=log_dir, histogram_freq=1) # процесс генерации логов будет идти параллельно обучению, потому используются коллбэки; задаём вычисление гистограммы каждой эпохи histogram_freq=1"
   ]
  },
  {
   "cell_type": "code",
   "execution_count": 89,
   "id": "f1bd9419",
   "metadata": {},
   "outputs": [
    {
     "name": "stdout",
     "output_type": "stream",
     "text": [
      "Epoch 1/10\n",
      "6/6 [==============================] - 0s 34ms/step - loss: 0.4424 - accuracy: 0.7815\n",
      "Epoch 2/10\n",
      "6/6 [==============================] - 0s 38ms/step - loss: 0.4412 - accuracy: 0.7759\n",
      "Epoch 3/10\n",
      "6/6 [==============================] - 0s 39ms/step - loss: 0.4406 - accuracy: 0.7885\n",
      "Epoch 4/10\n",
      "6/6 [==============================] - 0s 64ms/step - loss: 0.4466 - accuracy: 0.7787\n",
      "Epoch 5/10\n",
      "6/6 [==============================] - 0s 60ms/step - loss: 0.4381 - accuracy: 0.7745\n",
      "Epoch 6/10\n",
      "6/6 [==============================] - 0s 42ms/step - loss: 0.4382 - accuracy: 0.7899\n",
      "Epoch 7/10\n",
      "6/6 [==============================] - 0s 44ms/step - loss: 0.4427 - accuracy: 0.7885\n",
      "Epoch 8/10\n",
      "6/6 [==============================] - 0s 45ms/step - loss: 0.4415 - accuracy: 0.7815\n",
      "Epoch 9/10\n",
      "6/6 [==============================] - 0s 39ms/step - loss: 0.4386 - accuracy: 0.7773\n",
      "Epoch 10/10\n",
      "6/6 [==============================] - 0s 51ms/step - loss: 0.4380 - accuracy: 0.7829\n"
     ]
    },
    {
     "data": {
      "text/plain": [
       "<keras.callbacks.History at 0x7fafe2affd60>"
      ]
     },
     "execution_count": 89,
     "metadata": {},
     "output_type": "execute_result"
    }
   ],
   "source": [
    "model.fit(X_train_flat, Y_train_cat, epochs=10, batch_size=128, verbose=1, callbacks=[tensorboard_callback])"
   ]
  },
  {
   "cell_type": "code",
   "execution_count": 91,
   "id": "32c25845",
   "metadata": {},
   "outputs": [
    {
     "name": "stdout",
     "output_type": "stream",
     "text": [
      "The tensorboard extension is already loaded. To reload it, use:\n",
      "  %reload_ext tensorboard\n"
     ]
    },
    {
     "data": {
      "text/plain": [
       "Reusing TensorBoard on port 6006 (pid 19685), started 0:02:56 ago. (Use '!kill 19685' to kill it.)"
      ]
     },
     "metadata": {},
     "output_type": "display_data"
    },
    {
     "data": {
      "text/html": [
       "\n",
       "      <iframe id=\"tensorboard-frame-8fd436f5d2e2bbe7\" width=\"100%\" height=\"800\" frameborder=\"0\">\n",
       "      </iframe>\n",
       "      <script>\n",
       "        (function() {\n",
       "          const frame = document.getElementById(\"tensorboard-frame-8fd436f5d2e2bbe7\");\n",
       "          const url = new URL(\"/\", window.location);\n",
       "          const port = 6006;\n",
       "          if (port) {\n",
       "            url.port = port;\n",
       "          }\n",
       "          frame.src = url;\n",
       "        })();\n",
       "      </script>\n",
       "    "
      ],
      "text/plain": [
       "<IPython.core.display.HTML object>"
      ]
     },
     "metadata": {},
     "output_type": "display_data"
    }
   ],
   "source": [
    "%load_ext tensorboard # загружаем расширение TensorBoard\n",
    "%tensorboard --logdir logs/fit # запускаем TensorBoard"
   ]
  },
  {
   "cell_type": "code",
   "execution_count": null,
   "id": "89a1e9b3",
   "metadata": {},
   "outputs": [],
   "source": []
  }
 ],
 "metadata": {
  "kernelspec": {
   "display_name": "Python 3 (ipykernel)",
   "language": "python",
   "name": "python3"
  },
  "language_info": {
   "codemirror_mode": {
    "name": "ipython",
    "version": 3
   },
   "file_extension": ".py",
   "mimetype": "text/x-python",
   "name": "python",
   "nbconvert_exporter": "python",
   "pygments_lexer": "ipython3",
   "version": "3.9.12"
  }
 },
 "nbformat": 4,
 "nbformat_minor": 5
}
